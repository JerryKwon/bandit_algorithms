{
  "nbformat": 4,
  "nbformat_minor": 0,
  "metadata": {
    "colab": {
      "name": "Thompson Sampling.ipynb",
      "provenance": [],
      "collapsed_sections": []
    },
    "kernelspec": {
      "name": "python3",
      "display_name": "Python 3"
    },
    "language_info": {
      "name": "python"
    },
    "widgets": {
      "application/vnd.jupyter.widget-state+json": {
        "089e86a0c63545e4b0a0e5b3c04d1efa": {
          "model_module": "@jupyter-widgets/controls",
          "model_name": "HBoxModel",
          "state": {
            "_view_name": "HBoxView",
            "_dom_classes": [],
            "_model_name": "HBoxModel",
            "_view_module": "@jupyter-widgets/controls",
            "_model_module_version": "1.5.0",
            "_view_count": null,
            "_view_module_version": "1.5.0",
            "box_style": "",
            "layout": "IPY_MODEL_1e126e5746d04f2389bdf1705cff8b89",
            "_model_module": "@jupyter-widgets/controls",
            "children": [
              "IPY_MODEL_3936ec397596496483481ce1a2b59099",
              "IPY_MODEL_86e571977b914c0082d545c0280e989e"
            ]
          }
        },
        "1e126e5746d04f2389bdf1705cff8b89": {
          "model_module": "@jupyter-widgets/base",
          "model_name": "LayoutModel",
          "state": {
            "_view_name": "LayoutView",
            "grid_template_rows": null,
            "right": null,
            "justify_content": null,
            "_view_module": "@jupyter-widgets/base",
            "overflow": null,
            "_model_module_version": "1.2.0",
            "_view_count": null,
            "flex_flow": null,
            "width": null,
            "min_width": null,
            "border": null,
            "align_items": null,
            "bottom": null,
            "_model_module": "@jupyter-widgets/base",
            "top": null,
            "grid_column": null,
            "overflow_y": null,
            "overflow_x": null,
            "grid_auto_flow": null,
            "grid_area": null,
            "grid_template_columns": null,
            "flex": null,
            "_model_name": "LayoutModel",
            "justify_items": null,
            "grid_row": null,
            "max_height": null,
            "align_content": null,
            "visibility": null,
            "align_self": null,
            "height": null,
            "min_height": null,
            "padding": null,
            "grid_auto_rows": null,
            "grid_gap": null,
            "max_width": null,
            "order": null,
            "_view_module_version": "1.2.0",
            "grid_template_areas": null,
            "object_position": null,
            "object_fit": null,
            "grid_auto_columns": null,
            "margin": null,
            "display": null,
            "left": null
          }
        },
        "3936ec397596496483481ce1a2b59099": {
          "model_module": "@jupyter-widgets/controls",
          "model_name": "FloatProgressModel",
          "state": {
            "_view_name": "ProgressView",
            "style": "IPY_MODEL_aa56d7850e844185a512de73c9bf6543",
            "_dom_classes": [],
            "description": "100%",
            "_model_name": "FloatProgressModel",
            "bar_style": "success",
            "max": 10000,
            "_view_module": "@jupyter-widgets/controls",
            "_model_module_version": "1.5.0",
            "value": 10000,
            "_view_count": null,
            "_view_module_version": "1.5.0",
            "orientation": "horizontal",
            "min": 0,
            "description_tooltip": null,
            "_model_module": "@jupyter-widgets/controls",
            "layout": "IPY_MODEL_02f4717a22a54d26a2766f825ef97680"
          }
        },
        "86e571977b914c0082d545c0280e989e": {
          "model_module": "@jupyter-widgets/controls",
          "model_name": "HTMLModel",
          "state": {
            "_view_name": "HTMLView",
            "style": "IPY_MODEL_d800f3c19ee5474289714ce5cd0ad874",
            "_dom_classes": [],
            "description": "",
            "_model_name": "HTMLModel",
            "placeholder": "​",
            "_view_module": "@jupyter-widgets/controls",
            "_model_module_version": "1.5.0",
            "value": " 10000/10000 [00:04&lt;00:00, 2077.69it/s]",
            "_view_count": null,
            "_view_module_version": "1.5.0",
            "description_tooltip": null,
            "_model_module": "@jupyter-widgets/controls",
            "layout": "IPY_MODEL_ab2110590dd54d249c27fbf398b21690"
          }
        },
        "aa56d7850e844185a512de73c9bf6543": {
          "model_module": "@jupyter-widgets/controls",
          "model_name": "ProgressStyleModel",
          "state": {
            "_view_name": "StyleView",
            "_model_name": "ProgressStyleModel",
            "description_width": "initial",
            "_view_module": "@jupyter-widgets/base",
            "_model_module_version": "1.5.0",
            "_view_count": null,
            "_view_module_version": "1.2.0",
            "bar_color": null,
            "_model_module": "@jupyter-widgets/controls"
          }
        },
        "02f4717a22a54d26a2766f825ef97680": {
          "model_module": "@jupyter-widgets/base",
          "model_name": "LayoutModel",
          "state": {
            "_view_name": "LayoutView",
            "grid_template_rows": null,
            "right": null,
            "justify_content": null,
            "_view_module": "@jupyter-widgets/base",
            "overflow": null,
            "_model_module_version": "1.2.0",
            "_view_count": null,
            "flex_flow": null,
            "width": null,
            "min_width": null,
            "border": null,
            "align_items": null,
            "bottom": null,
            "_model_module": "@jupyter-widgets/base",
            "top": null,
            "grid_column": null,
            "overflow_y": null,
            "overflow_x": null,
            "grid_auto_flow": null,
            "grid_area": null,
            "grid_template_columns": null,
            "flex": null,
            "_model_name": "LayoutModel",
            "justify_items": null,
            "grid_row": null,
            "max_height": null,
            "align_content": null,
            "visibility": null,
            "align_self": null,
            "height": null,
            "min_height": null,
            "padding": null,
            "grid_auto_rows": null,
            "grid_gap": null,
            "max_width": null,
            "order": null,
            "_view_module_version": "1.2.0",
            "grid_template_areas": null,
            "object_position": null,
            "object_fit": null,
            "grid_auto_columns": null,
            "margin": null,
            "display": null,
            "left": null
          }
        },
        "d800f3c19ee5474289714ce5cd0ad874": {
          "model_module": "@jupyter-widgets/controls",
          "model_name": "DescriptionStyleModel",
          "state": {
            "_view_name": "StyleView",
            "_model_name": "DescriptionStyleModel",
            "description_width": "",
            "_view_module": "@jupyter-widgets/base",
            "_model_module_version": "1.5.0",
            "_view_count": null,
            "_view_module_version": "1.2.0",
            "_model_module": "@jupyter-widgets/controls"
          }
        },
        "ab2110590dd54d249c27fbf398b21690": {
          "model_module": "@jupyter-widgets/base",
          "model_name": "LayoutModel",
          "state": {
            "_view_name": "LayoutView",
            "grid_template_rows": null,
            "right": null,
            "justify_content": null,
            "_view_module": "@jupyter-widgets/base",
            "overflow": null,
            "_model_module_version": "1.2.0",
            "_view_count": null,
            "flex_flow": null,
            "width": null,
            "min_width": null,
            "border": null,
            "align_items": null,
            "bottom": null,
            "_model_module": "@jupyter-widgets/base",
            "top": null,
            "grid_column": null,
            "overflow_y": null,
            "overflow_x": null,
            "grid_auto_flow": null,
            "grid_area": null,
            "grid_template_columns": null,
            "flex": null,
            "_model_name": "LayoutModel",
            "justify_items": null,
            "grid_row": null,
            "max_height": null,
            "align_content": null,
            "visibility": null,
            "align_self": null,
            "height": null,
            "min_height": null,
            "padding": null,
            "grid_auto_rows": null,
            "grid_gap": null,
            "max_width": null,
            "order": null,
            "_view_module_version": "1.2.0",
            "grid_template_areas": null,
            "object_position": null,
            "object_fit": null,
            "grid_auto_columns": null,
            "margin": null,
            "display": null,
            "left": null
          }
        },
        "7f26e2c2dd67462a9de70e24e96b9b47": {
          "model_module": "@jupyter-widgets/controls",
          "model_name": "HBoxModel",
          "state": {
            "_view_name": "HBoxView",
            "_dom_classes": [],
            "_model_name": "HBoxModel",
            "_view_module": "@jupyter-widgets/controls",
            "_model_module_version": "1.5.0",
            "_view_count": null,
            "_view_module_version": "1.5.0",
            "box_style": "",
            "layout": "IPY_MODEL_32c337631b5b44c9bc6ef291009a06ff",
            "_model_module": "@jupyter-widgets/controls",
            "children": [
              "IPY_MODEL_8c173ebf86824f28acf10144846abd3d",
              "IPY_MODEL_0bcd8e2f904a409b87bb581782122ed5"
            ]
          }
        },
        "32c337631b5b44c9bc6ef291009a06ff": {
          "model_module": "@jupyter-widgets/base",
          "model_name": "LayoutModel",
          "state": {
            "_view_name": "LayoutView",
            "grid_template_rows": null,
            "right": null,
            "justify_content": null,
            "_view_module": "@jupyter-widgets/base",
            "overflow": null,
            "_model_module_version": "1.2.0",
            "_view_count": null,
            "flex_flow": null,
            "width": null,
            "min_width": null,
            "border": null,
            "align_items": null,
            "bottom": null,
            "_model_module": "@jupyter-widgets/base",
            "top": null,
            "grid_column": null,
            "overflow_y": null,
            "overflow_x": null,
            "grid_auto_flow": null,
            "grid_area": null,
            "grid_template_columns": null,
            "flex": null,
            "_model_name": "LayoutModel",
            "justify_items": null,
            "grid_row": null,
            "max_height": null,
            "align_content": null,
            "visibility": null,
            "align_self": null,
            "height": null,
            "min_height": null,
            "padding": null,
            "grid_auto_rows": null,
            "grid_gap": null,
            "max_width": null,
            "order": null,
            "_view_module_version": "1.2.0",
            "grid_template_areas": null,
            "object_position": null,
            "object_fit": null,
            "grid_auto_columns": null,
            "margin": null,
            "display": null,
            "left": null
          }
        },
        "8c173ebf86824f28acf10144846abd3d": {
          "model_module": "@jupyter-widgets/controls",
          "model_name": "FloatProgressModel",
          "state": {
            "_view_name": "ProgressView",
            "style": "IPY_MODEL_44b9c04d6e1e4f9fb82020daa8f686e6",
            "_dom_classes": [],
            "description": "100%",
            "_model_name": "FloatProgressModel",
            "bar_style": "success",
            "max": 10000,
            "_view_module": "@jupyter-widgets/controls",
            "_model_module_version": "1.5.0",
            "value": 10000,
            "_view_count": null,
            "_view_module_version": "1.5.0",
            "orientation": "horizontal",
            "min": 0,
            "description_tooltip": null,
            "_model_module": "@jupyter-widgets/controls",
            "layout": "IPY_MODEL_3c5f5f7f10f548be800087a18999a37b"
          }
        },
        "0bcd8e2f904a409b87bb581782122ed5": {
          "model_module": "@jupyter-widgets/controls",
          "model_name": "HTMLModel",
          "state": {
            "_view_name": "HTMLView",
            "style": "IPY_MODEL_bbdb896fe40043b68f9c37708196f548",
            "_dom_classes": [],
            "description": "",
            "_model_name": "HTMLModel",
            "placeholder": "​",
            "_view_module": "@jupyter-widgets/controls",
            "_model_module_version": "1.5.0",
            "value": " 10000/10000 [00:04&lt;00:00, 2083.67it/s]",
            "_view_count": null,
            "_view_module_version": "1.5.0",
            "description_tooltip": null,
            "_model_module": "@jupyter-widgets/controls",
            "layout": "IPY_MODEL_942fdb863541444ebdf6b44b529617c2"
          }
        },
        "44b9c04d6e1e4f9fb82020daa8f686e6": {
          "model_module": "@jupyter-widgets/controls",
          "model_name": "ProgressStyleModel",
          "state": {
            "_view_name": "StyleView",
            "_model_name": "ProgressStyleModel",
            "description_width": "initial",
            "_view_module": "@jupyter-widgets/base",
            "_model_module_version": "1.5.0",
            "_view_count": null,
            "_view_module_version": "1.2.0",
            "bar_color": null,
            "_model_module": "@jupyter-widgets/controls"
          }
        },
        "3c5f5f7f10f548be800087a18999a37b": {
          "model_module": "@jupyter-widgets/base",
          "model_name": "LayoutModel",
          "state": {
            "_view_name": "LayoutView",
            "grid_template_rows": null,
            "right": null,
            "justify_content": null,
            "_view_module": "@jupyter-widgets/base",
            "overflow": null,
            "_model_module_version": "1.2.0",
            "_view_count": null,
            "flex_flow": null,
            "width": null,
            "min_width": null,
            "border": null,
            "align_items": null,
            "bottom": null,
            "_model_module": "@jupyter-widgets/base",
            "top": null,
            "grid_column": null,
            "overflow_y": null,
            "overflow_x": null,
            "grid_auto_flow": null,
            "grid_area": null,
            "grid_template_columns": null,
            "flex": null,
            "_model_name": "LayoutModel",
            "justify_items": null,
            "grid_row": null,
            "max_height": null,
            "align_content": null,
            "visibility": null,
            "align_self": null,
            "height": null,
            "min_height": null,
            "padding": null,
            "grid_auto_rows": null,
            "grid_gap": null,
            "max_width": null,
            "order": null,
            "_view_module_version": "1.2.0",
            "grid_template_areas": null,
            "object_position": null,
            "object_fit": null,
            "grid_auto_columns": null,
            "margin": null,
            "display": null,
            "left": null
          }
        },
        "bbdb896fe40043b68f9c37708196f548": {
          "model_module": "@jupyter-widgets/controls",
          "model_name": "DescriptionStyleModel",
          "state": {
            "_view_name": "StyleView",
            "_model_name": "DescriptionStyleModel",
            "description_width": "",
            "_view_module": "@jupyter-widgets/base",
            "_model_module_version": "1.5.0",
            "_view_count": null,
            "_view_module_version": "1.2.0",
            "_model_module": "@jupyter-widgets/controls"
          }
        },
        "942fdb863541444ebdf6b44b529617c2": {
          "model_module": "@jupyter-widgets/base",
          "model_name": "LayoutModel",
          "state": {
            "_view_name": "LayoutView",
            "grid_template_rows": null,
            "right": null,
            "justify_content": null,
            "_view_module": "@jupyter-widgets/base",
            "overflow": null,
            "_model_module_version": "1.2.0",
            "_view_count": null,
            "flex_flow": null,
            "width": null,
            "min_width": null,
            "border": null,
            "align_items": null,
            "bottom": null,
            "_model_module": "@jupyter-widgets/base",
            "top": null,
            "grid_column": null,
            "overflow_y": null,
            "overflow_x": null,
            "grid_auto_flow": null,
            "grid_area": null,
            "grid_template_columns": null,
            "flex": null,
            "_model_name": "LayoutModel",
            "justify_items": null,
            "grid_row": null,
            "max_height": null,
            "align_content": null,
            "visibility": null,
            "align_self": null,
            "height": null,
            "min_height": null,
            "padding": null,
            "grid_auto_rows": null,
            "grid_gap": null,
            "max_width": null,
            "order": null,
            "_view_module_version": "1.2.0",
            "grid_template_areas": null,
            "object_position": null,
            "object_fit": null,
            "grid_auto_columns": null,
            "margin": null,
            "display": null,
            "left": null
          }
        }
      }
    }
  },
  "cells": [
    {
      "cell_type": "markdown",
      "metadata": {
        "id": "QpmBOgFkBCdQ"
      },
      "source": [
        "# Reference\n",
        "\n",
        "* Research Paper\n",
        "\n",
        "  <a href=\"http://proceedings.mlr.press/v28/agrawal13.html\">Agrawal, Shipra, and Navin Goyal. \"Thompson sampling for contextual bandits with linear payoffs.\" International Conference on Machine Learning. PMLR, 2013.</a>\n",
        "\n",
        "* Regret Bound\n",
        "\n",
        "  $O(\\frac{d^2}{\\epsilon}\\sqrt{T^{1+\\epsilon}}(ln(Td)ln\\frac{1}{\\delta}))$\n",
        "\n",
        "* Constraints\n",
        "\n",
        "  1. Arms could be defined infinite number unlike LinUCB\n",
        "  2. $||b_i(t)||\\leq{1},\\ ||\\mu||\\leq{1},\\ \\Delta_i(t)\\leq{1}$\n",
        "    \n",
        "    if it is not adapted at problem setting, regret bound will have scale element.\n",
        "\n",
        "  3. $\\epsilon(0<\\epsilon<1)$ is the only one parameter which could be chosen as hyperparameter of model.  \n",
        "\n"
      ]
    },
    {
      "cell_type": "code",
      "metadata": {
        "id": "lKUGEd_YmW2z"
      },
      "source": [
        "from tqdm.notebook import tqdm\n",
        "\n",
        "import numpy as np\n",
        "import pandas as pd\n",
        "from sklearn.preprocessing import normalize\n",
        "import matplotlib.pyplot as plt"
      ],
      "execution_count": 10,
      "outputs": []
    },
    {
      "cell_type": "code",
      "metadata": {
        "id": "69fM8SMPjf0f"
      },
      "source": [
        "class Env:\n",
        "  def __init__(self, k, d, norm=None, random_state=None):\n",
        "    self.k = k\n",
        "    self.d = d\n",
        "    self.norm = norm\n",
        "\n",
        "    self.seed_initialization(random_state)\n",
        "    self.true_theta = self.init_theta()\n",
        "\n",
        "  def init_theta(self):\n",
        "    if self.norm is not None:\n",
        "      return normalize(np.random.random((self.d,1)), norm=self.norm, axis=0)\n",
        "    else:\n",
        "      return np.random.random((self.d,1))\n",
        "\n",
        "  def get_observations(self):\n",
        "    if self.norm is not None:\n",
        "      return normalize(np.hstack([np.random.random((self.d,1)) for i in range(self.k)]), norm=self.norm, axis=0)\n",
        "    else:\n",
        "      return np.hstack([np.random.random((self.d,1)) for i in range(self.k)])\n",
        "\n",
        "  def seed_initialization(self, random_state):\n",
        "    np.random.seed(random_state)"
      ],
      "execution_count": 11,
      "outputs": []
    },
    {
      "cell_type": "code",
      "metadata": {
        "id": "LrS41JjAjiJO"
      },
      "source": [
        "class ThompsonSampling:\n",
        "  def __init__(self, k, d, t, epsilon, norm=None, seed=None, verbose=False):\n",
        "    self.k = k \n",
        "    self.d = d\n",
        "    self.t = t\n",
        "    self.epsilon = epsilon\n",
        "    self.verbose = verbose\n",
        "\n",
        "    self.env = Env(k,d, norm=norm, random_state=seed)\n",
        "    self.true_theta = self.env.true_theta\n",
        "    self.v = self.set_deviation()\n",
        "  \n",
        "  def init_matrix(self):\n",
        "    identity_matrix = np.eye(self.d)\n",
        "    zero_vector = np.zeros(self.d)\n",
        "\n",
        "    return identity_matrix, zero_vector, zero_vector\n",
        "\n",
        "  def set_deviation(self):\n",
        "    R = 1 # for simplity take 1-mean sub gaussian\n",
        "    delta = np.random.random(1) # 0 < delta < 1\n",
        "    return R * np.sqrt(24 / self.epsilon * self.d * np.log(1/delta)) \n",
        "\n",
        "  def get_reward(self, obs, theta):\n",
        "    selected_arm = obs.T.dot(theta).argmax()\n",
        "    reward = obs[:,selected_arm].dot(self.true_theta)\n",
        "    \n",
        "    return selected_arm, reward\n",
        "\n",
        "  def update_estimates(self, estimates, obs, play_result):\n",
        "    B, est_theta, f = estimates\n",
        "    est_arm, est_reward = play_result\n",
        "    \n",
        "    B += obs[:,est_arm].reshape(-1,1).dot(obs[:,est_arm].reshape(-1,1).T)\n",
        "    f += obs[:,est_arm] * est_reward\n",
        "    est_theta = np.linalg.inv(B).dot(f.reshape(-1,1)).reshape(-1)\n",
        "\n",
        "    return B, est_theta, f\n",
        "\n",
        "  def predict(self):\n",
        "    regrets = []\n",
        "\n",
        "    B, est_theta, f = self.init_matrix()\n",
        "\n",
        "    for t in tqdm(range(self.t)):\n",
        "      tilda_theta = np.random.multivariate_normal(est_theta, self.v**2 * np.linalg.inv(B))\n",
        "\n",
        "      observation = self.env.get_observations()\n",
        "\n",
        "      est_arm, est_reward = self.get_reward(observation, tilda_theta)\n",
        "      true_arm, true_reward = self.get_reward(observation, self.true_theta)\n",
        "\n",
        "      regret = true_reward - est_reward\n",
        "      regrets.append(regret)\n",
        "\n",
        "      B, est_theta, f = self.update_estimates((B, est_theta, f), observation, (est_arm, est_reward))\n",
        "      if self.verbose:\n",
        "        print(f\"Iter:{t+1} | Reward: EST:{est_reward.item():.4f}/OPT:{true_reward.item():.4f} | Regret:{sum(regrets).item():.4f}\")\n",
        "\n",
        "    self.regret = regrets\n",
        "\n",
        "  def plot_regret(self, figsize=[12,6]):\n",
        "    fig, axes = plt.subplots(1,2,figsize=figsize)\n",
        "    pd.Series(np.cumsum(self.regret)).plot(ax=axes[0])\n",
        "    axes[0].set_title(f\"Cummulative Regret for {self.t} iteration\")\n",
        "    pd.Series(np.hstack(self.regret).reshape(-1)).plot(ax=axes[1])\n",
        "    axes[1].set_title(f\"Individual Regret for {self.t} iteration\")\n",
        "    plt.suptitle(f\"Regret for Thompson Sampling K={self.k};D={self.d};T={self.t};E={self.epsilon.item()}\")"
      ],
      "execution_count": 12,
      "outputs": []
    },
    {
      "cell_type": "code",
      "metadata": {
        "id": "ScRu-MX4kG3U"
      },
      "source": [
        "K = 10\n",
        "D = 5\n",
        "T = 10000\n",
        "E = np.random.random(1) # 0 < e < 1 (epsilon)\n",
        "norm = \"l2\"\n",
        "global_seed = 100\n",
        "\n",
        "ts = ThompsonSampling(K,D,T,E,norm,global_seed)"
      ],
      "execution_count": 13,
      "outputs": []
    },
    {
      "cell_type": "code",
      "metadata": {
        "colab": {
          "base_uri": "https://localhost:8080/",
          "height": 67,
          "referenced_widgets": [
            "089e86a0c63545e4b0a0e5b3c04d1efa",
            "1e126e5746d04f2389bdf1705cff8b89",
            "3936ec397596496483481ce1a2b59099",
            "86e571977b914c0082d545c0280e989e",
            "aa56d7850e844185a512de73c9bf6543",
            "02f4717a22a54d26a2766f825ef97680",
            "d800f3c19ee5474289714ce5cd0ad874",
            "ab2110590dd54d249c27fbf398b21690"
          ]
        },
        "id": "8SlYVLVuq-ue",
        "outputId": "c9065bba-cc91-459b-e2d5-da0ee8a3a824"
      },
      "source": [
        "ts.predict()"
      ],
      "execution_count": 14,
      "outputs": [
        {
          "output_type": "display_data",
          "data": {
            "application/vnd.jupyter.widget-view+json": {
              "model_id": "089e86a0c63545e4b0a0e5b3c04d1efa",
              "version_minor": 0,
              "version_major": 2
            },
            "text/plain": [
              "HBox(children=(FloatProgress(value=0.0, max=10000.0), HTML(value='')))"
            ]
          },
          "metadata": {
            "tags": []
          }
        },
        {
          "output_type": "stream",
          "text": [
            "\n"
          ],
          "name": "stdout"
        }
      ]
    },
    {
      "cell_type": "code",
      "metadata": {
        "colab": {
          "base_uri": "https://localhost:8080/",
          "height": 417
        },
        "id": "StvPMkO67IRW",
        "outputId": "3dca6752-525c-43a5-eca0-8c29074badeb"
      },
      "source": [
        "ts.plot_regret()"
      ],
      "execution_count": 15,
      "outputs": [
        {
          "output_type": "display_data",
          "data": {
            "image/png": "[encoded data removed]",
            "text/plain": [
              "<Figure size 864x432 with 2 Axes>"
            ]
          },
          "metadata": {
            "tags": [],
            "needs_background": "light"
          }
        }
      ]
    },
    {
      "cell_type": "markdown",
      "metadata": {
        "id": "XC5M9CuWEwLF"
      },
      "source": [
        "Set lower dimension than above"
      ]
    },
    {
      "cell_type": "code",
      "metadata": {
        "id": "YHse6jzvEw1V"
      },
      "source": [
        "K = 10\n",
        "D = 3\n",
        "T = 10000\n",
        "E = np.random.random(1) # 0 < e < 1 (epsilon)\n",
        "norm = \"l2\"\n",
        "global_seed = 100\n",
        "\n",
        "ts = ThompsonSampling(K,D,T,E,norm,global_seed)"
      ],
      "execution_count": 16,
      "outputs": []
    },
    {
      "cell_type": "code",
      "metadata": {
        "colab": {
          "base_uri": "https://localhost:8080/",
          "height": 67,
          "referenced_widgets": [
            "7f26e2c2dd67462a9de70e24e96b9b47",
            "32c337631b5b44c9bc6ef291009a06ff",
            "8c173ebf86824f28acf10144846abd3d",
            "0bcd8e2f904a409b87bb581782122ed5",
            "44b9c04d6e1e4f9fb82020daa8f686e6",
            "3c5f5f7f10f548be800087a18999a37b",
            "bbdb896fe40043b68f9c37708196f548",
            "942fdb863541444ebdf6b44b529617c2"
          ]
        },
        "id": "YMjaclf0E1ad",
        "outputId": "f2508057-5e2c-4ef2-9c8c-2dfee539ca0d"
      },
      "source": [
        "ts.predict()"
      ],
      "execution_count": 17,
      "outputs": [
        {
          "output_type": "display_data",
          "data": {
            "application/vnd.jupyter.widget-view+json": {
              "model_id": "7f26e2c2dd67462a9de70e24e96b9b47",
              "version_minor": 0,
              "version_major": 2
            },
            "text/plain": [
              "HBox(children=(FloatProgress(value=0.0, max=10000.0), HTML(value='')))"
            ]
          },
          "metadata": {
            "tags": []
          }
        },
        {
          "output_type": "stream",
          "text": [
            "\n"
          ],
          "name": "stdout"
        }
      ]
    },
    {
      "cell_type": "code",
      "metadata": {
        "colab": {
          "base_uri": "https://localhost:8080/",
          "height": 417
        },
        "id": "aqtV_V9KE36v",
        "outputId": "b411af3c-335b-4995-9ffe-0a429b4f5717"
      },
      "source": [
        "ts.plot_regret()"
      ],
      "execution_count": 18,
      "outputs": [
        {
          "output_type": "display_data",
          "data": {
            "image/png": "[encoded data removed]",
            "text/plain": [
              "<Figure size 864x432 with 2 Axes>"
            ]
          },
          "metadata": {
            "tags": [],
            "needs_background": "light"
          }
        }
      ]
    }
  ]
}