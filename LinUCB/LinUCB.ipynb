{
  "nbformat": 4,
  "nbformat_minor": 0,
  "metadata": {
    "colab": {
      "name": "LinUCB.ipynb",
      "provenance": [],
      "collapsed_sections": [
        "qEsL8_MoUoUK"
      ]
    },
    "kernelspec": {
      "name": "python3",
      "display_name": "Python 3"
    },
    "language_info": {
      "name": "python"
    },
    "widgets": {
      "application/vnd.jupyter.widget-state+json": {
        "e0d4ea69ffe04ce7abc01290087a4f07": {
          "model_module": "@jupyter-widgets/controls",
          "model_name": "HBoxModel",
          "state": {
            "_view_name": "HBoxView",
            "_dom_classes": [],
            "_model_name": "HBoxModel",
            "_view_module": "@jupyter-widgets/controls",
            "_model_module_version": "1.5.0",
            "_view_count": null,
            "_view_module_version": "1.5.0",
            "box_style": "",
            "layout": "IPY_MODEL_c8ed8f6797df42b780a808bca4f95fa2",
            "_model_module": "@jupyter-widgets/controls",
            "children": [
              "IPY_MODEL_e6405a1cca0040df80d65d6543cf7794",
              "IPY_MODEL_31f0502bc7944792a2b593e1a8f964bf"
            ]
          }
        },
        "c8ed8f6797df42b780a808bca4f95fa2": {
          "model_module": "@jupyter-widgets/base",
          "model_name": "LayoutModel",
          "state": {
            "_view_name": "LayoutView",
            "grid_template_rows": null,
            "right": null,
            "justify_content": null,
            "_view_module": "@jupyter-widgets/base",
            "overflow": null,
            "_model_module_version": "1.2.0",
            "_view_count": null,
            "flex_flow": null,
            "width": null,
            "min_width": null,
            "border": null,
            "align_items": null,
            "bottom": null,
            "_model_module": "@jupyter-widgets/base",
            "top": null,
            "grid_column": null,
            "overflow_y": null,
            "overflow_x": null,
            "grid_auto_flow": null,
            "grid_area": null,
            "grid_template_columns": null,
            "flex": null,
            "_model_name": "LayoutModel",
            "justify_items": null,
            "grid_row": null,
            "max_height": null,
            "align_content": null,
            "visibility": null,
            "align_self": null,
            "height": null,
            "min_height": null,
            "padding": null,
            "grid_auto_rows": null,
            "grid_gap": null,
            "max_width": null,
            "order": null,
            "_view_module_version": "1.2.0",
            "grid_template_areas": null,
            "object_position": null,
            "object_fit": null,
            "grid_auto_columns": null,
            "margin": null,
            "display": null,
            "left": null
          }
        },
        "e6405a1cca0040df80d65d6543cf7794": {
          "model_module": "@jupyter-widgets/controls",
          "model_name": "FloatProgressModel",
          "state": {
            "_view_name": "ProgressView",
            "style": "IPY_MODEL_b9c65cb3b36f4cccac775b4ee464976e",
            "_dom_classes": [],
            "description": "100%",
            "_model_name": "FloatProgressModel",
            "bar_style": "success",
            "max": 1000,
            "_view_module": "@jupyter-widgets/controls",
            "_model_module_version": "1.5.0",
            "value": 1000,
            "_view_count": null,
            "_view_module_version": "1.5.0",
            "orientation": "horizontal",
            "min": 0,
            "description_tooltip": null,
            "_model_module": "@jupyter-widgets/controls",
            "layout": "IPY_MODEL_326bfe9d86124f718db0c586a174a154"
          }
        },
        "31f0502bc7944792a2b593e1a8f964bf": {
          "model_module": "@jupyter-widgets/controls",
          "model_name": "HTMLModel",
          "state": {
            "_view_name": "HTMLView",
            "style": "IPY_MODEL_a889d802290a47a89656cbc705ba41a0",
            "_dom_classes": [],
            "description": "",
            "_model_name": "HTMLModel",
            "placeholder": "​",
            "_view_module": "@jupyter-widgets/controls",
            "_model_module_version": "1.5.0",
            "value": " 1000/1000 [00:01&lt;00:00, 824.95it/s]",
            "_view_count": null,
            "_view_module_version": "1.5.0",
            "description_tooltip": null,
            "_model_module": "@jupyter-widgets/controls",
            "layout": "IPY_MODEL_7f6d28ac6ac8403aa282c66446b829bd"
          }
        },
        "b9c65cb3b36f4cccac775b4ee464976e": {
          "model_module": "@jupyter-widgets/controls",
          "model_name": "ProgressStyleModel",
          "state": {
            "_view_name": "StyleView",
            "_model_name": "ProgressStyleModel",
            "description_width": "initial",
            "_view_module": "@jupyter-widgets/base",
            "_model_module_version": "1.5.0",
            "_view_count": null,
            "_view_module_version": "1.2.0",
            "bar_color": null,
            "_model_module": "@jupyter-widgets/controls"
          }
        },
        "326bfe9d86124f718db0c586a174a154": {
          "model_module": "@jupyter-widgets/base",
          "model_name": "LayoutModel",
          "state": {
            "_view_name": "LayoutView",
            "grid_template_rows": null,
            "right": null,
            "justify_content": null,
            "_view_module": "@jupyter-widgets/base",
            "overflow": null,
            "_model_module_version": "1.2.0",
            "_view_count": null,
            "flex_flow": null,
            "width": null,
            "min_width": null,
            "border": null,
            "align_items": null,
            "bottom": null,
            "_model_module": "@jupyter-widgets/base",
            "top": null,
            "grid_column": null,
            "overflow_y": null,
            "overflow_x": null,
            "grid_auto_flow": null,
            "grid_area": null,
            "grid_template_columns": null,
            "flex": null,
            "_model_name": "LayoutModel",
            "justify_items": null,
            "grid_row": null,
            "max_height": null,
            "align_content": null,
            "visibility": null,
            "align_self": null,
            "height": null,
            "min_height": null,
            "padding": null,
            "grid_auto_rows": null,
            "grid_gap": null,
            "max_width": null,
            "order": null,
            "_view_module_version": "1.2.0",
            "grid_template_areas": null,
            "object_position": null,
            "object_fit": null,
            "grid_auto_columns": null,
            "margin": null,
            "display": null,
            "left": null
          }
        },
        "a889d802290a47a89656cbc705ba41a0": {
          "model_module": "@jupyter-widgets/controls",
          "model_name": "DescriptionStyleModel",
          "state": {
            "_view_name": "StyleView",
            "_model_name": "DescriptionStyleModel",
            "description_width": "",
            "_view_module": "@jupyter-widgets/base",
            "_model_module_version": "1.5.0",
            "_view_count": null,
            "_view_module_version": "1.2.0",
            "_model_module": "@jupyter-widgets/controls"
          }
        },
        "7f6d28ac6ac8403aa282c66446b829bd": {
          "model_module": "@jupyter-widgets/base",
          "model_name": "LayoutModel",
          "state": {
            "_view_name": "LayoutView",
            "grid_template_rows": null,
            "right": null,
            "justify_content": null,
            "_view_module": "@jupyter-widgets/base",
            "overflow": null,
            "_model_module_version": "1.2.0",
            "_view_count": null,
            "flex_flow": null,
            "width": null,
            "min_width": null,
            "border": null,
            "align_items": null,
            "bottom": null,
            "_model_module": "@jupyter-widgets/base",
            "top": null,
            "grid_column": null,
            "overflow_y": null,
            "overflow_x": null,
            "grid_auto_flow": null,
            "grid_area": null,
            "grid_template_columns": null,
            "flex": null,
            "_model_name": "LayoutModel",
            "justify_items": null,
            "grid_row": null,
            "max_height": null,
            "align_content": null,
            "visibility": null,
            "align_self": null,
            "height": null,
            "min_height": null,
            "padding": null,
            "grid_auto_rows": null,
            "grid_gap": null,
            "max_width": null,
            "order": null,
            "_view_module_version": "1.2.0",
            "grid_template_areas": null,
            "object_position": null,
            "object_fit": null,
            "grid_auto_columns": null,
            "margin": null,
            "display": null,
            "left": null
          }
        },
        "64163f91e3d649998d23f90750fab482": {
          "model_module": "@jupyter-widgets/controls",
          "model_name": "HBoxModel",
          "state": {
            "_view_name": "HBoxView",
            "_dom_classes": [],
            "_model_name": "HBoxModel",
            "_view_module": "@jupyter-widgets/controls",
            "_model_module_version": "1.5.0",
            "_view_count": null,
            "_view_module_version": "1.5.0",
            "box_style": "",
            "layout": "IPY_MODEL_48df9d8ea0cb44059da420f4d2f6a97a",
            "_model_module": "@jupyter-widgets/controls",
            "children": [
              "IPY_MODEL_4ae816f7c2504fb5a26927bf80dfe1a6",
              "IPY_MODEL_bd3bc0a02e664c4fba87b0d415983af8"
            ]
          }
        },
        "48df9d8ea0cb44059da420f4d2f6a97a": {
          "model_module": "@jupyter-widgets/base",
          "model_name": "LayoutModel",
          "state": {
            "_view_name": "LayoutView",
            "grid_template_rows": null,
            "right": null,
            "justify_content": null,
            "_view_module": "@jupyter-widgets/base",
            "overflow": null,
            "_model_module_version": "1.2.0",
            "_view_count": null,
            "flex_flow": null,
            "width": null,
            "min_width": null,
            "border": null,
            "align_items": null,
            "bottom": null,
            "_model_module": "@jupyter-widgets/base",
            "top": null,
            "grid_column": null,
            "overflow_y": null,
            "overflow_x": null,
            "grid_auto_flow": null,
            "grid_area": null,
            "grid_template_columns": null,
            "flex": null,
            "_model_name": "LayoutModel",
            "justify_items": null,
            "grid_row": null,
            "max_height": null,
            "align_content": null,
            "visibility": null,
            "align_self": null,
            "height": null,
            "min_height": null,
            "padding": null,
            "grid_auto_rows": null,
            "grid_gap": null,
            "max_width": null,
            "order": null,
            "_view_module_version": "1.2.0",
            "grid_template_areas": null,
            "object_position": null,
            "object_fit": null,
            "grid_auto_columns": null,
            "margin": null,
            "display": null,
            "left": null
          }
        },
        "4ae816f7c2504fb5a26927bf80dfe1a6": {
          "model_module": "@jupyter-widgets/controls",
          "model_name": "FloatProgressModel",
          "state": {
            "_view_name": "ProgressView",
            "style": "IPY_MODEL_754b5ffa01ae4cf194d04ccf0705337b",
            "_dom_classes": [],
            "description": "100%",
            "_model_name": "FloatProgressModel",
            "bar_style": "success",
            "max": 10000,
            "_view_module": "@jupyter-widgets/controls",
            "_model_module_version": "1.5.0",
            "value": 10000,
            "_view_count": null,
            "_view_module_version": "1.5.0",
            "orientation": "horizontal",
            "min": 0,
            "description_tooltip": null,
            "_model_module": "@jupyter-widgets/controls",
            "layout": "IPY_MODEL_16292cd08f7241a188bfcaedacafb885"
          }
        },
        "bd3bc0a02e664c4fba87b0d415983af8": {
          "model_module": "@jupyter-widgets/controls",
          "model_name": "HTMLModel",
          "state": {
            "_view_name": "HTMLView",
            "style": "IPY_MODEL_3aabd64ced074e71953df0fd0c87a05c",
            "_dom_classes": [],
            "description": "",
            "_model_name": "HTMLModel",
            "placeholder": "​",
            "_view_module": "@jupyter-widgets/controls",
            "_model_module_version": "1.5.0",
            "value": " 10000/10000 [00:09&lt;00:00, 1085.30it/s]",
            "_view_count": null,
            "_view_module_version": "1.5.0",
            "description_tooltip": null,
            "_model_module": "@jupyter-widgets/controls",
            "layout": "IPY_MODEL_7285d05b33674d75bca7e71164dca442"
          }
        },
        "754b5ffa01ae4cf194d04ccf0705337b": {
          "model_module": "@jupyter-widgets/controls",
          "model_name": "ProgressStyleModel",
          "state": {
            "_view_name": "StyleView",
            "_model_name": "ProgressStyleModel",
            "description_width": "initial",
            "_view_module": "@jupyter-widgets/base",
            "_model_module_version": "1.5.0",
            "_view_count": null,
            "_view_module_version": "1.2.0",
            "bar_color": null,
            "_model_module": "@jupyter-widgets/controls"
          }
        },
        "16292cd08f7241a188bfcaedacafb885": {
          "model_module": "@jupyter-widgets/base",
          "model_name": "LayoutModel",
          "state": {
            "_view_name": "LayoutView",
            "grid_template_rows": null,
            "right": null,
            "justify_content": null,
            "_view_module": "@jupyter-widgets/base",
            "overflow": null,
            "_model_module_version": "1.2.0",
            "_view_count": null,
            "flex_flow": null,
            "width": null,
            "min_width": null,
            "border": null,
            "align_items": null,
            "bottom": null,
            "_model_module": "@jupyter-widgets/base",
            "top": null,
            "grid_column": null,
            "overflow_y": null,
            "overflow_x": null,
            "grid_auto_flow": null,
            "grid_area": null,
            "grid_template_columns": null,
            "flex": null,
            "_model_name": "LayoutModel",
            "justify_items": null,
            "grid_row": null,
            "max_height": null,
            "align_content": null,
            "visibility": null,
            "align_self": null,
            "height": null,
            "min_height": null,
            "padding": null,
            "grid_auto_rows": null,
            "grid_gap": null,
            "max_width": null,
            "order": null,
            "_view_module_version": "1.2.0",
            "grid_template_areas": null,
            "object_position": null,
            "object_fit": null,
            "grid_auto_columns": null,
            "margin": null,
            "display": null,
            "left": null
          }
        },
        "3aabd64ced074e71953df0fd0c87a05c": {
          "model_module": "@jupyter-widgets/controls",
          "model_name": "DescriptionStyleModel",
          "state": {
            "_view_name": "StyleView",
            "_model_name": "DescriptionStyleModel",
            "description_width": "",
            "_view_module": "@jupyter-widgets/base",
            "_model_module_version": "1.5.0",
            "_view_count": null,
            "_view_module_version": "1.2.0",
            "_model_module": "@jupyter-widgets/controls"
          }
        },
        "7285d05b33674d75bca7e71164dca442": {
          "model_module": "@jupyter-widgets/base",
          "model_name": "LayoutModel",
          "state": {
            "_view_name": "LayoutView",
            "grid_template_rows": null,
            "right": null,
            "justify_content": null,
            "_view_module": "@jupyter-widgets/base",
            "overflow": null,
            "_model_module_version": "1.2.0",
            "_view_count": null,
            "flex_flow": null,
            "width": null,
            "min_width": null,
            "border": null,
            "align_items": null,
            "bottom": null,
            "_model_module": "@jupyter-widgets/base",
            "top": null,
            "grid_column": null,
            "overflow_y": null,
            "overflow_x": null,
            "grid_auto_flow": null,
            "grid_area": null,
            "grid_template_columns": null,
            "flex": null,
            "_model_name": "LayoutModel",
            "justify_items": null,
            "grid_row": null,
            "max_height": null,
            "align_content": null,
            "visibility": null,
            "align_self": null,
            "height": null,
            "min_height": null,
            "padding": null,
            "grid_auto_rows": null,
            "grid_gap": null,
            "max_width": null,
            "order": null,
            "_view_module_version": "1.2.0",
            "grid_template_areas": null,
            "object_position": null,
            "object_fit": null,
            "grid_auto_columns": null,
            "margin": null,
            "display": null,
            "left": null
          }
        },
        "1d06f74332bf4a05aa246b8b6aeb34ef": {
          "model_module": "@jupyter-widgets/controls",
          "model_name": "HBoxModel",
          "state": {
            "_view_name": "HBoxView",
            "_dom_classes": [],
            "_model_name": "HBoxModel",
            "_view_module": "@jupyter-widgets/controls",
            "_model_module_version": "1.5.0",
            "_view_count": null,
            "_view_module_version": "1.5.0",
            "box_style": "",
            "layout": "IPY_MODEL_491e3133470741d89634ad918bdea7db",
            "_model_module": "@jupyter-widgets/controls",
            "children": [
              "IPY_MODEL_eb479b7a79ab4c00aabc58e54039e16c",
              "IPY_MODEL_c86e743d64654e878087ced45b657d18"
            ]
          }
        },
        "491e3133470741d89634ad918bdea7db": {
          "model_module": "@jupyter-widgets/base",
          "model_name": "LayoutModel",
          "state": {
            "_view_name": "LayoutView",
            "grid_template_rows": null,
            "right": null,
            "justify_content": null,
            "_view_module": "@jupyter-widgets/base",
            "overflow": null,
            "_model_module_version": "1.2.0",
            "_view_count": null,
            "flex_flow": null,
            "width": null,
            "min_width": null,
            "border": null,
            "align_items": null,
            "bottom": null,
            "_model_module": "@jupyter-widgets/base",
            "top": null,
            "grid_column": null,
            "overflow_y": null,
            "overflow_x": null,
            "grid_auto_flow": null,
            "grid_area": null,
            "grid_template_columns": null,
            "flex": null,
            "_model_name": "LayoutModel",
            "justify_items": null,
            "grid_row": null,
            "max_height": null,
            "align_content": null,
            "visibility": null,
            "align_self": null,
            "height": null,
            "min_height": null,
            "padding": null,
            "grid_auto_rows": null,
            "grid_gap": null,
            "max_width": null,
            "order": null,
            "_view_module_version": "1.2.0",
            "grid_template_areas": null,
            "object_position": null,
            "object_fit": null,
            "grid_auto_columns": null,
            "margin": null,
            "display": null,
            "left": null
          }
        },
        "eb479b7a79ab4c00aabc58e54039e16c": {
          "model_module": "@jupyter-widgets/controls",
          "model_name": "FloatProgressModel",
          "state": {
            "_view_name": "ProgressView",
            "style": "IPY_MODEL_07de2a90ecc04563aff9c8a23c97ed95",
            "_dom_classes": [],
            "description": "100%",
            "_model_name": "FloatProgressModel",
            "bar_style": "success",
            "max": 10000,
            "_view_module": "@jupyter-widgets/controls",
            "_model_module_version": "1.5.0",
            "value": 10000,
            "_view_count": null,
            "_view_module_version": "1.5.0",
            "orientation": "horizontal",
            "min": 0,
            "description_tooltip": null,
            "_model_module": "@jupyter-widgets/controls",
            "layout": "IPY_MODEL_75c303f9ebf5441d9b654cd3ba674c0a"
          }
        },
        "c86e743d64654e878087ced45b657d18": {
          "model_module": "@jupyter-widgets/controls",
          "model_name": "HTMLModel",
          "state": {
            "_view_name": "HTMLView",
            "style": "IPY_MODEL_249343515b35412596dc389ce05c1c0a",
            "_dom_classes": [],
            "description": "",
            "_model_name": "HTMLModel",
            "placeholder": "​",
            "_view_module": "@jupyter-widgets/controls",
            "_model_module_version": "1.5.0",
            "value": " 10000/10000 [00:08&lt;00:00, 1148.40it/s]",
            "_view_count": null,
            "_view_module_version": "1.5.0",
            "description_tooltip": null,
            "_model_module": "@jupyter-widgets/controls",
            "layout": "IPY_MODEL_1439fb76ad954d358642aa26416ef979"
          }
        },
        "07de2a90ecc04563aff9c8a23c97ed95": {
          "model_module": "@jupyter-widgets/controls",
          "model_name": "ProgressStyleModel",
          "state": {
            "_view_name": "StyleView",
            "_model_name": "ProgressStyleModel",
            "description_width": "initial",
            "_view_module": "@jupyter-widgets/base",
            "_model_module_version": "1.5.0",
            "_view_count": null,
            "_view_module_version": "1.2.0",
            "bar_color": null,
            "_model_module": "@jupyter-widgets/controls"
          }
        },
        "75c303f9ebf5441d9b654cd3ba674c0a": {
          "model_module": "@jupyter-widgets/base",
          "model_name": "LayoutModel",
          "state": {
            "_view_name": "LayoutView",
            "grid_template_rows": null,
            "right": null,
            "justify_content": null,
            "_view_module": "@jupyter-widgets/base",
            "overflow": null,
            "_model_module_version": "1.2.0",
            "_view_count": null,
            "flex_flow": null,
            "width": null,
            "min_width": null,
            "border": null,
            "align_items": null,
            "bottom": null,
            "_model_module": "@jupyter-widgets/base",
            "top": null,
            "grid_column": null,
            "overflow_y": null,
            "overflow_x": null,
            "grid_auto_flow": null,
            "grid_area": null,
            "grid_template_columns": null,
            "flex": null,
            "_model_name": "LayoutModel",
            "justify_items": null,
            "grid_row": null,
            "max_height": null,
            "align_content": null,
            "visibility": null,
            "align_self": null,
            "height": null,
            "min_height": null,
            "padding": null,
            "grid_auto_rows": null,
            "grid_gap": null,
            "max_width": null,
            "order": null,
            "_view_module_version": "1.2.0",
            "grid_template_areas": null,
            "object_position": null,
            "object_fit": null,
            "grid_auto_columns": null,
            "margin": null,
            "display": null,
            "left": null
          }
        },
        "249343515b35412596dc389ce05c1c0a": {
          "model_module": "@jupyter-widgets/controls",
          "model_name": "DescriptionStyleModel",
          "state": {
            "_view_name": "StyleView",
            "_model_name": "DescriptionStyleModel",
            "description_width": "",
            "_view_module": "@jupyter-widgets/base",
            "_model_module_version": "1.5.0",
            "_view_count": null,
            "_view_module_version": "1.2.0",
            "_model_module": "@jupyter-widgets/controls"
          }
        },
        "1439fb76ad954d358642aa26416ef979": {
          "model_module": "@jupyter-widgets/base",
          "model_name": "LayoutModel",
          "state": {
            "_view_name": "LayoutView",
            "grid_template_rows": null,
            "right": null,
            "justify_content": null,
            "_view_module": "@jupyter-widgets/base",
            "overflow": null,
            "_model_module_version": "1.2.0",
            "_view_count": null,
            "flex_flow": null,
            "width": null,
            "min_width": null,
            "border": null,
            "align_items": null,
            "bottom": null,
            "_model_module": "@jupyter-widgets/base",
            "top": null,
            "grid_column": null,
            "overflow_y": null,
            "overflow_x": null,
            "grid_auto_flow": null,
            "grid_area": null,
            "grid_template_columns": null,
            "flex": null,
            "_model_name": "LayoutModel",
            "justify_items": null,
            "grid_row": null,
            "max_height": null,
            "align_content": null,
            "visibility": null,
            "align_self": null,
            "height": null,
            "min_height": null,
            "padding": null,
            "grid_auto_rows": null,
            "grid_gap": null,
            "max_width": null,
            "order": null,
            "_view_module_version": "1.2.0",
            "grid_template_areas": null,
            "object_position": null,
            "object_fit": null,
            "grid_auto_columns": null,
            "margin": null,
            "display": null,
            "left": null
          }
        },
        "4a26e764d1dc4f689133b3aed4eccfdb": {
          "model_module": "@jupyter-widgets/controls",
          "model_name": "HBoxModel",
          "state": {
            "_view_name": "HBoxView",
            "_dom_classes": [],
            "_model_name": "HBoxModel",
            "_view_module": "@jupyter-widgets/controls",
            "_model_module_version": "1.5.0",
            "_view_count": null,
            "_view_module_version": "1.5.0",
            "box_style": "",
            "layout": "IPY_MODEL_4fc001a835bf4ed9b8cc6949259d367c",
            "_model_module": "@jupyter-widgets/controls",
            "children": [
              "IPY_MODEL_4c13e9854aa0421e9433208de4900789",
              "IPY_MODEL_908f8bbe6b854a2a8163a7bf1762ba9a"
            ]
          }
        },
        "4fc001a835bf4ed9b8cc6949259d367c": {
          "model_module": "@jupyter-widgets/base",
          "model_name": "LayoutModel",
          "state": {
            "_view_name": "LayoutView",
            "grid_template_rows": null,
            "right": null,
            "justify_content": null,
            "_view_module": "@jupyter-widgets/base",
            "overflow": null,
            "_model_module_version": "1.2.0",
            "_view_count": null,
            "flex_flow": null,
            "width": null,
            "min_width": null,
            "border": null,
            "align_items": null,
            "bottom": null,
            "_model_module": "@jupyter-widgets/base",
            "top": null,
            "grid_column": null,
            "overflow_y": null,
            "overflow_x": null,
            "grid_auto_flow": null,
            "grid_area": null,
            "grid_template_columns": null,
            "flex": null,
            "_model_name": "LayoutModel",
            "justify_items": null,
            "grid_row": null,
            "max_height": null,
            "align_content": null,
            "visibility": null,
            "align_self": null,
            "height": null,
            "min_height": null,
            "padding": null,
            "grid_auto_rows": null,
            "grid_gap": null,
            "max_width": null,
            "order": null,
            "_view_module_version": "1.2.0",
            "grid_template_areas": null,
            "object_position": null,
            "object_fit": null,
            "grid_auto_columns": null,
            "margin": null,
            "display": null,
            "left": null
          }
        },
        "4c13e9854aa0421e9433208de4900789": {
          "model_module": "@jupyter-widgets/controls",
          "model_name": "FloatProgressModel",
          "state": {
            "_view_name": "ProgressView",
            "style": "IPY_MODEL_77a2dbc93cb04d80a10631066b4b4427",
            "_dom_classes": [],
            "description": "100%",
            "_model_name": "FloatProgressModel",
            "bar_style": "success",
            "max": 10000,
            "_view_module": "@jupyter-widgets/controls",
            "_model_module_version": "1.5.0",
            "value": 10000,
            "_view_count": null,
            "_view_module_version": "1.5.0",
            "orientation": "horizontal",
            "min": 0,
            "description_tooltip": null,
            "_model_module": "@jupyter-widgets/controls",
            "layout": "IPY_MODEL_badf5271e56940aeaa96b01412ec42a5"
          }
        },
        "908f8bbe6b854a2a8163a7bf1762ba9a": {
          "model_module": "@jupyter-widgets/controls",
          "model_name": "HTMLModel",
          "state": {
            "_view_name": "HTMLView",
            "style": "IPY_MODEL_5d1fd2073ce84c1cbbed970ed3189995",
            "_dom_classes": [],
            "description": "",
            "_model_name": "HTMLModel",
            "placeholder": "​",
            "_view_module": "@jupyter-widgets/controls",
            "_model_module_version": "1.5.0",
            "value": " 10000/10000 [00:11&lt;00:00, 896.59it/s]",
            "_view_count": null,
            "_view_module_version": "1.5.0",
            "description_tooltip": null,
            "_model_module": "@jupyter-widgets/controls",
            "layout": "IPY_MODEL_afd8156e924c4196933bce2ec48024bf"
          }
        },
        "77a2dbc93cb04d80a10631066b4b4427": {
          "model_module": "@jupyter-widgets/controls",
          "model_name": "ProgressStyleModel",
          "state": {
            "_view_name": "StyleView",
            "_model_name": "ProgressStyleModel",
            "description_width": "initial",
            "_view_module": "@jupyter-widgets/base",
            "_model_module_version": "1.5.0",
            "_view_count": null,
            "_view_module_version": "1.2.0",
            "bar_color": null,
            "_model_module": "@jupyter-widgets/controls"
          }
        },
        "badf5271e56940aeaa96b01412ec42a5": {
          "model_module": "@jupyter-widgets/base",
          "model_name": "LayoutModel",
          "state": {
            "_view_name": "LayoutView",
            "grid_template_rows": null,
            "right": null,
            "justify_content": null,
            "_view_module": "@jupyter-widgets/base",
            "overflow": null,
            "_model_module_version": "1.2.0",
            "_view_count": null,
            "flex_flow": null,
            "width": null,
            "min_width": null,
            "border": null,
            "align_items": null,
            "bottom": null,
            "_model_module": "@jupyter-widgets/base",
            "top": null,
            "grid_column": null,
            "overflow_y": null,
            "overflow_x": null,
            "grid_auto_flow": null,
            "grid_area": null,
            "grid_template_columns": null,
            "flex": null,
            "_model_name": "LayoutModel",
            "justify_items": null,
            "grid_row": null,
            "max_height": null,
            "align_content": null,
            "visibility": null,
            "align_self": null,
            "height": null,
            "min_height": null,
            "padding": null,
            "grid_auto_rows": null,
            "grid_gap": null,
            "max_width": null,
            "order": null,
            "_view_module_version": "1.2.0",
            "grid_template_areas": null,
            "object_position": null,
            "object_fit": null,
            "grid_auto_columns": null,
            "margin": null,
            "display": null,
            "left": null
          }
        },
        "5d1fd2073ce84c1cbbed970ed3189995": {
          "model_module": "@jupyter-widgets/controls",
          "model_name": "DescriptionStyleModel",
          "state": {
            "_view_name": "StyleView",
            "_model_name": "DescriptionStyleModel",
            "description_width": "",
            "_view_module": "@jupyter-widgets/base",
            "_model_module_version": "1.5.0",
            "_view_count": null,
            "_view_module_version": "1.2.0",
            "_model_module": "@jupyter-widgets/controls"
          }
        },
        "afd8156e924c4196933bce2ec48024bf": {
          "model_module": "@jupyter-widgets/base",
          "model_name": "LayoutModel",
          "state": {
            "_view_name": "LayoutView",
            "grid_template_rows": null,
            "right": null,
            "justify_content": null,
            "_view_module": "@jupyter-widgets/base",
            "overflow": null,
            "_model_module_version": "1.2.0",
            "_view_count": null,
            "flex_flow": null,
            "width": null,
            "min_width": null,
            "border": null,
            "align_items": null,
            "bottom": null,
            "_model_module": "@jupyter-widgets/base",
            "top": null,
            "grid_column": null,
            "overflow_y": null,
            "overflow_x": null,
            "grid_auto_flow": null,
            "grid_area": null,
            "grid_template_columns": null,
            "flex": null,
            "_model_name": "LayoutModel",
            "justify_items": null,
            "grid_row": null,
            "max_height": null,
            "align_content": null,
            "visibility": null,
            "align_self": null,
            "height": null,
            "min_height": null,
            "padding": null,
            "grid_auto_rows": null,
            "grid_gap": null,
            "max_width": null,
            "order": null,
            "_view_module_version": "1.2.0",
            "grid_template_areas": null,
            "object_position": null,
            "object_fit": null,
            "grid_auto_columns": null,
            "margin": null,
            "display": null,
            "left": null
          }
        }
      }
    }
  },
  "cells": [
    {
      "cell_type": "markdown",
      "metadata": {
        "id": "Gsxok_Nm-iDW"
      },
      "source": [
        "# Reference\n",
        "\n",
        "* Research Paper\n",
        "\n",
        "  <a href=\"http://proceedings.mlr.press/v15/chu11a.html\">Chu, Wei, et al. \"Contextual bandits with linear payoff functions.\" Proceedings of the Fourteenth International Conference on Artificial Intelligence and Statistics. JMLR Workshop and Conference Proceedings, 2011.</a>\n",
        "\n",
        "* LinUCB Implementation\n",
        "\n",
        "  https://www.linkedin.com/pulse/contextual-bandits-linear-upper-confidence-bound-disjoint-kenneth-foo\n",
        "\n"
      ]
    },
    {
      "cell_type": "code",
      "metadata": {
        "id": "8Djap6mwJPKH"
      },
      "source": [
        "from tqdm.notebook import tqdm\n",
        "\n",
        "import numpy as np\n",
        "import pandas as pd\n",
        "from sklearn.preprocessing import normalize\n",
        "import matplotlib.pyplot as plt"
      ],
      "execution_count": 1,
      "outputs": []
    },
    {
      "cell_type": "markdown",
      "metadata": {
        "id": "qEsL8_MoUoUK"
      },
      "source": [
        "## 1. LinUCB Function Implementation (May, 2021)"
      ]
    },
    {
      "cell_type": "code",
      "metadata": {
        "id": "RQbvpl1ifklt"
      },
      "source": [
        "def generate_kfeatures(num_arms, dimension, seed):\n",
        "  np.random.seed(seed)\n",
        "  result = np.array([np.random.random(dimension) for i in range(num_arms)]).transpose()\n",
        "  return result"
      ],
      "execution_count": 2,
      "outputs": []
    },
    {
      "cell_type": "code",
      "metadata": {
        "id": "ILagEyDyhDNT"
      },
      "source": [
        "K = 10\n",
        "D = 5\n",
        "T = 1000\n",
        "GLOBAL_SEED = 100\n",
        "alpha = 0.5\n",
        "\n",
        "def init_matrix(dimension):\n",
        "  identity_matrix = []\n",
        "  for row in range(dimension):\n",
        "    identity_matrix.append([1 if row==i else 0 for i in range(dimension)])\n",
        "\n",
        "  identity_matrix = np.array(identity_matrix,dtype=np.float)\n",
        "  zero_vector = np.zeros((dimension,1))\n",
        "\n",
        "  return identity_matrix, zero_vector"
      ],
      "execution_count": 3,
      "outputs": []
    },
    {
      "cell_type": "code",
      "metadata": {
        "id": "sa8Nv5gPqPNG"
      },
      "source": [
        "def get_reward(obs, arm, theta):\n",
        "  return obs[:,arm].reshape(1,-1).dot(theta)"
      ],
      "execution_count": 4,
      "outputs": []
    },
    {
      "cell_type": "code",
      "metadata": {
        "id": "z9Bm0RlFJDYC"
      },
      "source": [
        "K = 10\n",
        "D = 5\n",
        "T = 1000\n",
        "GLOBAL_SEED = 100\n",
        "alpha = 0.5\n",
        "verbose = False\n",
        "\n",
        "def init_matrix(dimension):\n",
        "  identity_matrix = []\n",
        "  for row in range(dimension):\n",
        "    identity_matrix.append([1 if row==i else 0 for i in range(dimension)])\n",
        "\n",
        "  identity_matrix = np.array(identity_matrix,dtype=np.float)\n",
        "  zero_vector = np.zeros((dimension,1))\n",
        "\n",
        "  return identity_matrix, zero_vector"
      ],
      "execution_count": 5,
      "outputs": []
    },
    {
      "cell_type": "code",
      "metadata": {
        "colab": {
          "base_uri": "https://localhost:8080/",
          "height": 67,
          "referenced_widgets": [
            "e0d4ea69ffe04ce7abc01290087a4f07",
            "c8ed8f6797df42b780a808bca4f95fa2",
            "e6405a1cca0040df80d65d6543cf7794",
            "31f0502bc7944792a2b593e1a8f964bf",
            "b9c65cb3b36f4cccac775b4ee464976e",
            "326bfe9d86124f718db0c586a174a154",
            "a889d802290a47a89656cbc705ba41a0",
            "7f6d28ac6ac8403aa282c66446b829bd"
          ]
        },
        "id": "tay_fijL6S5f",
        "outputId": "f084fd20-7e1f-431f-ca78-694424f51353"
      },
      "source": [
        "A,b = init_matrix(D)\n",
        "\n",
        "opt_theta = np.random.rand(D)*2-1\n",
        "\n",
        "est_rewards = list()\n",
        "opt_rewards = list()\n",
        "\n",
        "regrets = list()\n",
        "\n",
        "for t in tqdm(range(T)):\n",
        "  est_theta = np.linalg.inv(A).dot(b)\n",
        "  observations = generate_kfeatures(K,D,GLOBAL_SEED+t)\n",
        "\n",
        "  list_est = []\n",
        "  list_opt = []\n",
        "  \n",
        "  for a in range(K):\n",
        "    X_ = observations[:,a].reshape(-1,1)\n",
        "    est_p = est_theta.T.dot(X_) + alpha * np.sqrt(X_.T.dot(np.linalg.inv(A)).dot(X_))\n",
        "    opt_p = opt_theta.T.dot(X_) + alpha * np.sqrt(X_.T.dot(np.linalg.inv(A)).dot(X_))\n",
        "\n",
        "    list_est.append(est_p.item())\n",
        "    list_opt.append(opt_p.item())\n",
        "\n",
        "  est_arm = np.argmax(list_est)\n",
        "  opt_arm = np.argmax(list_opt)\n",
        "\n",
        "  est_reward = get_reward(observations, est_arm, opt_theta)\n",
        "  opt_reward = get_reward(observations, opt_arm, opt_theta)\n",
        "\n",
        "  A += observations[:,est_arm].reshape(-1,1).dot(observations[:,est_arm].reshape(1,-1))\n",
        "  b += (observations[:,est_arm] * est_reward).reshape(-1,1)\n",
        "\n",
        "  regrets.append(observations[:,opt_arm].reshape(1,-1).dot(opt_theta)-observations[:,est_arm].reshape(1,-1).dot(est_theta))\n",
        "  \n",
        "  if verbose:\n",
        "    print(f\"Iter:{t+1} | Reward: EST:{est_reward.item():.4f}/OPT:{opt_reward.item():.4f} | Regret:{sum(regrets).item():.4f}\")"
      ],
      "execution_count": 6,
      "outputs": [
        {
          "output_type": "display_data",
          "data": {
            "application/vnd.jupyter.widget-view+json": {
              "model_id": "e0d4ea69ffe04ce7abc01290087a4f07",
              "version_minor": 0,
              "version_major": 2
            },
            "text/plain": [
              "HBox(children=(FloatProgress(value=0.0, max=1000.0), HTML(value='')))"
            ]
          },
          "metadata": {
            "tags": []
          }
        },
        {
          "output_type": "stream",
          "text": [
            "\n"
          ],
          "name": "stdout"
        }
      ]
    },
    {
      "cell_type": "code",
      "metadata": {
        "colab": {
          "base_uri": "https://localhost:8080/",
          "height": 283
        },
        "id": "uyDn8Jjc_66x",
        "outputId": "ca8a2dec-07d7-4ac5-bafd-7d11eecb3605"
      },
      "source": [
        "import pandas as pd\n",
        "\n",
        "pd.Series(np.cumsum(regrets)).plot()"
      ],
      "execution_count": 7,
      "outputs": [
        {
          "output_type": "execute_result",
          "data": {
            "text/plain": [
              "<matplotlib.axes._subplots.AxesSubplot at 0x7f5e1970d690>"
            ]
          },
          "metadata": {
            "tags": []
          },
          "execution_count": 7
        },
        {
          "output_type": "display_data",
          "data": {
            "image/png": "[encoded data removed]",
            "text/plain": [
              "<Figure size 432x288 with 1 Axes>"
            ]
          },
          "metadata": {
            "tags": [],
            "needs_background": "light"
          }
        }
      ]
    },
    {
      "cell_type": "markdown",
      "metadata": {
        "id": "PnEwkp6-UXeK"
      },
      "source": [
        "## 2. LinUCB Class Implementation w/ env contained (June, 2021)"
      ]
    },
    {
      "cell_type": "code",
      "metadata": {
        "id": "hG7y0Mn3WedB"
      },
      "source": [
        "class LinUCB:\n",
        "  def __init__(self, k, d, t, alpha, seed, verbose=False):\n",
        "    self.k = k \n",
        "    self.d = d\n",
        "    self.t = t\n",
        "    self.alpha = alpha\n",
        "    self.seed = seed\n",
        "    self.verbose = verbose\n",
        "\n",
        "    self.opt_theta = np.random.rand(d)*2-1\n",
        "\n",
        "  def init_matrix(self):\n",
        "    identity_matrix = []\n",
        "    for row in range(self.d):\n",
        "      identity_matrix.append([1 if row==i else 0 for i in range(self.d)])\n",
        "\n",
        "    identity_matrix = np.array(identity_matrix,dtype=np.float)\n",
        "    zero_vector = np.zeros((self.d,1))\n",
        "\n",
        "    return identity_matrix, zero_vector\n",
        "\n",
        "  def generate_features(self, idx):\n",
        "    np.random.seed(self.seed+idx)\n",
        "    result = np.array([np.random.random(self.d) for i in range(self.k)]).transpose()\n",
        "    return result\n",
        "\n",
        "  def get_reward(self, obs, arm):\n",
        "    return obs[:,arm].reshape(1,-1).dot(self.opt_theta)\n",
        "\n",
        "  def pulling_arms(self, observations, A, est_theta):\n",
        "    list_est = []\n",
        "    list_opt = []\n",
        "    \n",
        "    for a in range(self.k):\n",
        "      X_ = observations[:,a].reshape(-1,1)\n",
        "      est_p = est_theta.T.dot(X_) + self.alpha * np.sqrt(X_.T.dot(np.linalg.inv(A)).dot(X_))\n",
        "      opt_p = self.opt_theta.T.dot(X_) + self.alpha * np.sqrt(X_.T.dot(np.linalg.inv(A)).dot(X_))\n",
        "\n",
        "      list_est.append(est_p.item())\n",
        "      list_opt.append(opt_p.item())\n",
        "\n",
        "    est_arm = np.argmax(list_est)\n",
        "    opt_arm = np.argmax(list_opt)\n",
        "\n",
        "    return est_arm, opt_arm\n",
        "\n",
        "  def predict(self):\n",
        "    A,b = self.init_matrix()\n",
        "\n",
        "    est_rewards = list()\n",
        "    opt_rewards = list()\n",
        "\n",
        "    regrets = list()\n",
        "\n",
        "    for t in tqdm(range(self.t)):\n",
        "      est_theta = np.linalg.inv(A).dot(b)\n",
        "      observations = self.generate_features(t)\n",
        "      \n",
        "      est_arm, opt_arm = self.pulling_arms(observations, A, est_theta)\n",
        "\n",
        "      est_reward = self.get_reward(observations, est_arm)\n",
        "      opt_reward = self.get_reward(observations, opt_arm)\n",
        "\n",
        "      A += observations[:,est_arm].reshape(-1,1).dot(observations[:,est_arm].reshape(1,-1)) \n",
        "      b += (observations[:,est_arm] * est_reward).reshape(-1,1)\n",
        "\n",
        "      regrets.append(observations[:,opt_arm].reshape(1,-1).dot(self.opt_theta)-observations[:,est_arm].reshape(1,-1).dot(est_theta))\n",
        "      \n",
        "      if self.verbose:\n",
        "        print(f\"Iter:{t+1} | Reward: EST:{est_reward.item():.4f}/OPT:{opt_reward.item():.4f} | Regret:{sum(regrets).item():.4f}\")\n",
        "\n",
        "    self.regret = regrets\n",
        "\n",
        "  def plot_regret(self):\n",
        "    pd.Series(np.cumsum(self.regret)).plot()"
      ],
      "execution_count": 8,
      "outputs": []
    },
    {
      "cell_type": "code",
      "metadata": {
        "colab": {
          "base_uri": "https://localhost:8080/",
          "height": 315,
          "referenced_widgets": [
            "64163f91e3d649998d23f90750fab482",
            "48df9d8ea0cb44059da420f4d2f6a97a",
            "4ae816f7c2504fb5a26927bf80dfe1a6",
            "bd3bc0a02e664c4fba87b0d415983af8",
            "754b5ffa01ae4cf194d04ccf0705337b",
            "16292cd08f7241a188bfcaedacafb885",
            "3aabd64ced074e71953df0fd0c87a05c",
            "7285d05b33674d75bca7e71164dca442"
          ]
        },
        "id": "mzxVN97AZnV_",
        "outputId": "1d192d7d-9b98-4069-b9ea-fddedb560a17"
      },
      "source": [
        "K = 10\n",
        "D = 5\n",
        "T = 10000\n",
        "GLOBAL_SEED = 100\n",
        "alpha = 0.5\n",
        "\n",
        "\n",
        "linucb = LinUCB(K,D,T,alpha,GLOBAL_SEED)\n",
        "linucb.predict()\n",
        "linucb.plot_regret()"
      ],
      "execution_count": 9,
      "outputs": [
        {
          "output_type": "display_data",
          "data": {
            "application/vnd.jupyter.widget-view+json": {
              "model_id": "64163f91e3d649998d23f90750fab482",
              "version_minor": 0,
              "version_major": 2
            },
            "text/plain": [
              "HBox(children=(FloatProgress(value=0.0, max=10000.0), HTML(value='')))"
            ]
          },
          "metadata": {
            "tags": []
          }
        },
        {
          "output_type": "stream",
          "text": [
            "\n"
          ],
          "name": "stdout"
        },
        {
          "output_type": "display_data",
          "data": {
            "image/png": "[encoded data removed]",
            "text/plain": [
              "<Figure size 432x288 with 1 Axes>"
            ]
          },
          "metadata": {
            "tags": [],
            "needs_background": "light"
          }
        }
      ]
    },
    {
      "cell_type": "markdown",
      "metadata": {
        "id": "QSoZIMgeU91h"
      },
      "source": [
        "## 3. LinUCB Class Implementation env seperated (July, 2021)"
      ]
    },
    {
      "cell_type": "code",
      "metadata": {
        "id": "bPo_BzoncmN6"
      },
      "source": [
        "class Env:\n",
        "  def __init__(self, k, d, norm=None, random_state=None):\n",
        "    self.k = k\n",
        "    self.d = d\n",
        "    self.norm = norm\n",
        "\n",
        "    self.seed_initialization(random_state)\n",
        "    self.true_theta = self.init_theta()\n",
        "\n",
        "  def init_theta(self):\n",
        "    if self.norm is not None:\n",
        "      return normalize(np.random.random((self.d,1)), norm=self.norm, axis=0)\n",
        "    else:\n",
        "      return np.random.random((self.d,1))\n",
        "\n",
        "  def get_observations(self):\n",
        "    if self.norm is not None:\n",
        "      return normalize(np.hstack([np.random.random((self.d,1)) for i in range(self.k)]), norm=self.norm, axis=0)\n",
        "    else:\n",
        "      return np.hstack([np.random.random((self.d,1)) for i in range(self.k)])\n",
        "\n",
        "  def seed_initialization(self, random_state):\n",
        "    np.random.seed(random_state)"
      ],
      "execution_count": 10,
      "outputs": []
    },
    {
      "cell_type": "code",
      "metadata": {
        "id": "20P5TqhDVESW"
      },
      "source": [
        "class LinUCB:\n",
        "  def __init__(self, k, d, t, alpha, norm=None, seed=None, verbose=False):\n",
        "    self.k = k \n",
        "    self.d = d\n",
        "    self.t = t\n",
        "    self.alpha = alpha\n",
        "\n",
        "    self.env = Env(k,d, norm=norm, random_state=seed)\n",
        "    self.opt_theta = self.env.true_theta\n",
        "    self.verbose = verbose\n",
        "\n",
        "  def init_matrix(self):\n",
        "    \n",
        "    identity_matrix = np.eye(self.d)\n",
        "    zero_vector = np.zeros((self.d,1))\n",
        "\n",
        "    return identity_matrix, zero_vector\n",
        "\n",
        "  def get_reward(self, obs, arm):\n",
        "    return obs[:,arm].reshape(1,-1).dot(self.opt_theta)\n",
        "\n",
        "  def pulling_arms(self, observations, A, est_theta):\n",
        "    list_est = []\n",
        "    list_opt = []\n",
        "    \n",
        "    for a in range(self.k):\n",
        "      X_ = observations[:,a].reshape(-1,1)\n",
        "      est_p = est_theta.T.dot(X_) + self.alpha * np.sqrt(X_.T.dot(np.linalg.inv(A)).dot(X_))\n",
        "      opt_p = self.opt_theta.T.dot(X_) + self.alpha * np.sqrt(X_.T.dot(np.linalg.inv(A)).dot(X_))\n",
        "\n",
        "      list_est.append(est_p.item())\n",
        "      list_opt.append(opt_p.item())\n",
        "\n",
        "    est_arm = np.argmax(list_est)\n",
        "    opt_arm = np.argmax(list_opt)\n",
        "\n",
        "    return est_arm, opt_arm\n",
        "\n",
        "  def predict(self):\n",
        "    A,b = self.init_matrix()\n",
        "\n",
        "    est_rewards = list()\n",
        "    opt_rewards = list()\n",
        "\n",
        "    regrets = list()\n",
        "\n",
        "    for t in tqdm(range(self.t)):\n",
        "      est_theta = np.linalg.inv(A).dot(b)\n",
        "      observations = self.env.get_observations()\n",
        "      \n",
        "      est_arm, opt_arm = self.pulling_arms(observations, A, est_theta)\n",
        "\n",
        "      est_reward = self.get_reward(observations, est_arm)\n",
        "      opt_reward = self.get_reward(observations, opt_arm)\n",
        "\n",
        "      A += observations[:,est_arm].reshape(-1,1).dot(observations[:,est_arm].reshape(1,-1)) \n",
        "      b += (observations[:,est_arm] * est_reward).reshape(-1,1)\n",
        "\n",
        "      regrets.append(observations[:,opt_arm].reshape(1,-1).dot(self.opt_theta)-observations[:,est_arm].reshape(1,-1).dot(est_theta))\n",
        "      if self.verbose:\n",
        "        print(f\"Iter:{t+1} | Reward: EST:{est_reward.item():.4f}/OPT:{opt_reward.item():.4f} | Regret:{sum(regrets).item():.4f}\")\n",
        "\n",
        "    self.regret = regrets\n",
        "\n",
        "  def plot_regret(self, figsize=[12,6]):\n",
        "    fig, axes = plt.subplots(1,2,figsize=figsize)\n",
        "    pd.Series(np.cumsum(self.regret)).plot(ax=axes[0])\n",
        "    axes[0].set_title(f\"Cummulative Regret for {self.t} iteration\")\n",
        "    pd.Series(np.hstack(self.regret).reshape(-1)).plot(ax=axes[1])\n",
        "    axes[1].set_title(f\"Individual Regret for {self.t} iteration\")\n",
        "    plt.suptitle(f\"Regret for Thompson Sampling K={self.k};D={self.d};T={self.t};alpha={self.alpha}\")"
      ],
      "execution_count": 11,
      "outputs": []
    },
    {
      "cell_type": "markdown",
      "metadata": {
        "id": "eRjlC8RWktAi"
      },
      "source": [
        "without l2 normalization"
      ]
    },
    {
      "cell_type": "code",
      "metadata": {
        "colab": {
          "base_uri": "https://localhost:8080/",
          "height": 67,
          "referenced_widgets": [
            "1d06f74332bf4a05aa246b8b6aeb34ef",
            "491e3133470741d89634ad918bdea7db",
            "eb479b7a79ab4c00aabc58e54039e16c",
            "c86e743d64654e878087ced45b657d18",
            "07de2a90ecc04563aff9c8a23c97ed95",
            "75c303f9ebf5441d9b654cd3ba674c0a",
            "249343515b35412596dc389ce05c1c0a",
            "1439fb76ad954d358642aa26416ef979"
          ]
        },
        "id": "OoCIP3wukJGL",
        "outputId": "be61e747-b5a9-41ea-e2e1-47c81004354e"
      },
      "source": [
        "K = 10\n",
        "D = 5\n",
        "T = 10000\n",
        "GLOBAL_SEED = 100\n",
        "norm = None\n",
        "alpha = 0.5\n",
        "\n",
        "\n",
        "linucb = LinUCB(K,D,T,alpha,norm,GLOBAL_SEED)\n",
        "linucb.predict()"
      ],
      "execution_count": 12,
      "outputs": [
        {
          "output_type": "display_data",
          "data": {
            "application/vnd.jupyter.widget-view+json": {
              "model_id": "1d06f74332bf4a05aa246b8b6aeb34ef",
              "version_minor": 0,
              "version_major": 2
            },
            "text/plain": [
              "HBox(children=(FloatProgress(value=0.0, max=10000.0), HTML(value='')))"
            ]
          },
          "metadata": {
            "tags": []
          }
        },
        {
          "output_type": "stream",
          "text": [
            "\n"
          ],
          "name": "stdout"
        }
      ]
    },
    {
      "cell_type": "code",
      "metadata": {
        "colab": {
          "base_uri": "https://localhost:8080/",
          "height": 417
        },
        "id": "Fk7XvsZ_ENbd",
        "outputId": "e2d12812-7e1f-4694-d748-fa6c542c6540"
      },
      "source": [
        "linucb.plot_regret()"
      ],
      "execution_count": 13,
      "outputs": [
        {
          "output_type": "display_data",
          "data": {
            "image/png": "[encoded data removed]",
            "text/plain": [
              "<Figure size 864x432 with 2 Axes>"
            ]
          },
          "metadata": {
            "tags": [],
            "needs_background": "light"
          }
        }
      ]
    },
    {
      "cell_type": "markdown",
      "metadata": {
        "id": "93zZLlkpkyYy"
      },
      "source": [
        "with l2 normalization"
      ]
    },
    {
      "cell_type": "code",
      "metadata": {
        "colab": {
          "base_uri": "https://localhost:8080/",
          "height": 67,
          "referenced_widgets": [
            "4a26e764d1dc4f689133b3aed4eccfdb",
            "4fc001a835bf4ed9b8cc6949259d367c",
            "4c13e9854aa0421e9433208de4900789",
            "908f8bbe6b854a2a8163a7bf1762ba9a",
            "77a2dbc93cb04d80a10631066b4b4427",
            "badf5271e56940aeaa96b01412ec42a5",
            "5d1fd2073ce84c1cbbed970ed3189995",
            "afd8156e924c4196933bce2ec48024bf"
          ]
        },
        "id": "SXlIoEuZkL18",
        "outputId": "66a31fd5-a6fc-451f-f748-4f75834d7fb6"
      },
      "source": [
        "K = 10\n",
        "D = 5\n",
        "T = 10000\n",
        "GLOBAL_SEED = 100\n",
        "norm = \"l2\"\n",
        "alpha = 0.5\n",
        "\n",
        "\n",
        "linucb = LinUCB(K,D,T,alpha,norm,GLOBAL_SEED)\n",
        "linucb.predict()"
      ],
      "execution_count": 14,
      "outputs": [
        {
          "output_type": "display_data",
          "data": {
            "application/vnd.jupyter.widget-view+json": {
              "model_id": "4a26e764d1dc4f689133b3aed4eccfdb",
              "version_minor": 0,
              "version_major": 2
            },
            "text/plain": [
              "HBox(children=(FloatProgress(value=0.0, max=10000.0), HTML(value='')))"
            ]
          },
          "metadata": {
            "tags": []
          }
        },
        {
          "output_type": "stream",
          "text": [
            "\n"
          ],
          "name": "stdout"
        }
      ]
    },
    {
      "cell_type": "code",
      "metadata": {
        "colab": {
          "base_uri": "https://localhost:8080/",
          "height": 417
        },
        "id": "FhjRfx88Fhv-",
        "outputId": "ece045a4-3896-45f1-b728-341a523b598f"
      },
      "source": [
        "linucb.plot_regret()"
      ],
      "execution_count": 15,
      "outputs": [
        {
          "output_type": "display_data",
          "data": {
            "image/png": "[encoded data removed]",
            "text/plain": [
              "<Figure size 864x432 with 2 Axes>"
            ]
          },
          "metadata": {
            "tags": [],
            "needs_background": "light"
          }
        }
      ]
    }
  ]
}